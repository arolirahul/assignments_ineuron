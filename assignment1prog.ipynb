{
 "cells": [
  {
   "cell_type": "code",
   "execution_count": 1,
   "id": "afdff3f4",
   "metadata": {},
   "outputs": [
    {
     "name": "stdout",
     "output_type": "stream",
     "text": [
      "Hello Phython\n"
     ]
    }
   ],
   "source": [
    "#1\n",
    "\n",
    "print(\"Hello Phython\")"
   ]
  },
  {
   "cell_type": "code",
   "execution_count": 3,
   "id": "ee04f58d",
   "metadata": {},
   "outputs": [
    {
     "name": "stdout",
     "output_type": "stream",
     "text": [
      "Enter a:2\n",
      "Enter b:2\n",
      "operator:/\n",
      "1.0\n"
     ]
    }
   ],
   "source": [
    "2#\n",
    "\n",
    "a=float(input(\"Enter a:\"))\n",
    "b=float(input(\"Enter b:\"))\n",
    "\n",
    "op=input(\"operator:\")\n",
    "\n",
    "if op==\"+\":\n",
    "    print(a+b)\n",
    "    \n",
    "if op==\"/\":\n",
    "    print(a/b)"
   ]
  },
  {
   "cell_type": "code",
   "execution_count": 5,
   "id": "dc867658",
   "metadata": {},
   "outputs": [
    {
     "name": "stdout",
     "output_type": "stream",
     "text": [
      "enter base:0\n",
      "enter height9\n",
      "0.0\n"
     ]
    }
   ],
   "source": [
    "#3\n",
    "\n",
    "base=float(input(\"enter base:\"))\n",
    "height=float(input(\"enter height\"))\n",
    "\n",
    "area=0.0\n",
    "\n",
    "area= 0.5*base*height\n",
    "\n",
    "print(area)"
   ]
  },
  {
   "cell_type": "code",
   "execution_count": 6,
   "id": "f9db3478",
   "metadata": {},
   "outputs": [
    {
     "name": "stdout",
     "output_type": "stream",
     "text": [
      "enter a:5\n",
      "enter b:6\n",
      "before swapping:\n",
      "5 6\n",
      "after swapping:\n",
      "6 5\n"
     ]
    }
   ],
   "source": [
    "#4\n",
    "\n",
    "a=int(input(\"enter a:\"))\n",
    "b=int(input(\"enter b:\"))\n",
    "\n",
    "print(\"before swapping:\")\n",
    "print(a,b)\n",
    "temp=a\n",
    "a=b\n",
    "b=temp\n",
    "\n",
    "print(\"after swapping:\")\n",
    "print(a,b)\n",
    "\n"
   ]
  },
  {
   "cell_type": "code",
   "execution_count": 11,
   "id": "26b34751",
   "metadata": {},
   "outputs": [
    {
     "name": "stdout",
     "output_type": "stream",
     "text": [
      "0.6057226990770309\n"
     ]
    }
   ],
   "source": [
    "#5\n",
    "\n",
    "import random\n",
    "n=0\n",
    "n=random.random()\n",
    "print(n)"
   ]
  },
  {
   "cell_type": "code",
   "execution_count": null,
   "id": "aa81bba3",
   "metadata": {},
   "outputs": [],
   "source": []
  }
 ],
 "metadata": {
  "kernelspec": {
   "display_name": "Python 3 (ipykernel)",
   "language": "python",
   "name": "python3"
  },
  "language_info": {
   "codemirror_mode": {
    "name": "ipython",
    "version": 3
   },
   "file_extension": ".py",
   "mimetype": "text/x-python",
   "name": "python",
   "nbconvert_exporter": "python",
   "pygments_lexer": "ipython3",
   "version": "3.9.7"
  }
 },
 "nbformat": 4,
 "nbformat_minor": 5
}
