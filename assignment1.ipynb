{
  "nbformat": 4,
  "nbformat_minor": 0,
  "metadata": {
    "colab": {
      "name": "Untitled9.ipynb",
      "provenance": []
    },
    "kernelspec": {
      "name": "python3",
      "display_name": "Python 3"
    },
    "language_info": {
      "name": "python"
    }
  },
  "cells": [
    {
      "cell_type": "markdown",
      "source": [
        ""
      ],
      "metadata": {
        "id": "HLDQiOQsUadF"
      }
    },
    {
      "cell_type": "code",
      "execution_count": null,
      "metadata": {
        "id": "_IanKxFbUXt5"
      },
      "outputs": [],
      "source": [
        "Assignment1:\n",
        "\n",
        "\n",
        "1. a.'Hello': value\n",
        "b. -87.8: value\n",
        "c. - : expression\n",
        "d. / : expression\n",
        "e. 6 : value\n",
        "\n",
        "2. String: it is generally enclosed within inverted commas, and it consists of series of characters.\n",
        "   Variable: whenever variable is created some memory location is created for that, and anything can be stored in variable, string, char, int, float, etc.\n",
        "\n",
        "3. There are many datatypes among those three of them are int, float, str\n",
        "int: is used to declare integer type variables.\n",
        "float: is used to declare float type variables.\n",
        "str: is used to declare string type variables.\n",
        "\n",
        "4. expression:  a combination of operators and operands that is interpreted to produce some other value. \n",
        "ex: 5+10\n",
        "\n",
        "\n",
        "5. expression:  a combination of operators and operands that is interpreted to produce some other value. \n",
        "ex: 5+10\n",
        "\n",
        "assignment statement: assigns a value to the variable.\n",
        "ex: a=10\n",
        "value 10 is assigned to variable 'a'.\n",
        "\n",
        "6. 22\n",
        "\n",
        "7. spam+spamspam:spamspamspam\n",
        "   spam*3:spamspamspam\n",
        "\n",
        "8. because the rule says that, variable name shouldn't start with a number.\n",
        "\n",
        "9. int() , float() , and str( ) \n",
        "\n",
        "10. string and integer cannot be concatenated.\n",
        "\n"
      ]
    },
    {
      "cell_type": "code",
      "source": [
        "\"I have eaten\"+99+\"burritos\""
      ],
      "metadata": {
        "colab": {
          "base_uri": "https://localhost:8080/",
          "height": 166
        },
        "id": "qDZoheHDYl3F",
        "outputId": "fb7bbd1c-3c8e-460c-bb58-3bc7fe487b55"
      },
      "execution_count": 7,
      "outputs": [
        {
          "output_type": "error",
          "ename": "TypeError",
          "evalue": "ignored",
          "traceback": [
            "\u001b[0;31m---------------------------------------------------------------------------\u001b[0m",
            "\u001b[0;31mTypeError\u001b[0m                                 Traceback (most recent call last)",
            "\u001b[0;32m<ipython-input-7-e2bf08b32ffd>\u001b[0m in \u001b[0;36m<module>\u001b[0;34m()\u001b[0m\n\u001b[0;32m----> 1\u001b[0;31m \u001b[0;34m\"I have eaten\"\u001b[0m\u001b[0;34m+\u001b[0m\u001b[0;36m99\u001b[0m\u001b[0;34m+\u001b[0m\u001b[0;34m\"burritos\"\u001b[0m\u001b[0;34m\u001b[0m\u001b[0;34m\u001b[0m\u001b[0m\n\u001b[0m",
            "\u001b[0;31mTypeError\u001b[0m: can only concatenate str (not \"int\") to str"
          ]
        }
      ]
    },
    {
      "cell_type": "code",
      "source": [
        "bacon"
      ],
      "metadata": {
        "colab": {
          "base_uri": "https://localhost:8080/"
        },
        "id": "v9RBQIq7YnDK",
        "outputId": "e80fe756-998c-4e88-ff89-4b03c742fb83"
      },
      "execution_count": 3,
      "outputs": [
        {
          "output_type": "execute_result",
          "data": {
            "text/plain": [
              "10"
            ]
          },
          "metadata": {},
          "execution_count": 3
        }
      ]
    },
    {
      "cell_type": "code",
      "source": [
        "'spam'*3"
      ],
      "metadata": {
        "colab": {
          "base_uri": "https://localhost:8080/",
          "height": 35
        },
        "id": "-BshqGkJYuVT",
        "outputId": "a0e94165-9c08-44c2-f8bf-e47e59736e24"
      },
      "execution_count": 6,
      "outputs": [
        {
          "output_type": "execute_result",
          "data": {
            "text/plain": [
              "'spamspamspam'"
            ],
            "application/vnd.google.colaboratory.intrinsic+json": {
              "type": "string"
            }
          },
          "metadata": {},
          "execution_count": 6
        }
      ]
    },
    {
      "cell_type": "code",
      "source": [
        "'spam'+'spamspam'"
      ],
      "metadata": {
        "colab": {
          "base_uri": "https://localhost:8080/",
          "height": 35
        },
        "id": "MElCAgssY-6Q",
        "outputId": "abd517ef-fff0-4b30-e36a-a223f80760bb"
      },
      "execution_count": 5,
      "outputs": [
        {
          "output_type": "execute_result",
          "data": {
            "text/plain": [
              "'spamspamspam'"
            ],
            "application/vnd.google.colaboratory.intrinsic+json": {
              "type": "string"
            }
          },
          "metadata": {},
          "execution_count": 5
        }
      ]
    },
    {
      "cell_type": "code",
      "source": [
        ""
      ],
      "metadata": {
        "id": "gx0Ohm8NZDbZ"
      },
      "execution_count": null,
      "outputs": []
    }
  ]
}